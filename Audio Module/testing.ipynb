{
 "cells": [
  {
   "cell_type": "code",
   "execution_count": 15,
   "id": "ccc3904d",
   "metadata": {},
   "outputs": [
    {
     "name": "stdout",
     "output_type": "stream",
     "text": [
      "1/1 [==============================] - 1s 1s/step\n",
      "Predicted Emotion: angry\n"
     ]
    }
   ],
   "source": [
    "import librosa\n",
    "import numpy as np\n",
    "from tensorflow.keras.models import load_model\n",
    "from sklearn.preprocessing import LabelEncoder\n",
    "import pandas as pd\n",
    "\n",
    "# Load your saved model\n",
    "model = load_model(\"speech_emotion_cnn_bilstm.h5\")\n",
    "\n",
    "# Load the label encoder fitted during training\n",
    "# (Assuming you saved your labels somewhere; otherwise, recreate from dataset)\n",
    "# Here is a simple way if you have your dataset csv:\n",
    "df = pd.read_csv(\"ravdess_all_actors_full_mfcc.csv\")\n",
    "df = df[df['emotion'] != 'unknown'].reset_index(drop=True)\n",
    "labels = df['emotion'].unique()\n",
    "encoder = LabelEncoder()\n",
    "encoder.fit(labels)\n",
    "\n",
    "def preprocess_audio(file_path, n_mfcc=13, max_len=130):\n",
    "    signal, sr = librosa.load(file_path, sr=16000)\n",
    "    mfcc = librosa.feature.mfcc(y=signal, sr=sr, n_mfcc=n_mfcc)\n",
    "    mfcc = mfcc.T\n",
    "\n",
    "    if mfcc.shape[0] < max_len:\n",
    "        pad_width = max_len - mfcc.shape[0]\n",
    "        mfcc = np.pad(mfcc, pad_width=((0, pad_width), (0,0)), mode='constant')\n",
    "    else:\n",
    "        mfcc = mfcc[:max_len, :]\n",
    "\n",
    "    mfcc = np.expand_dims(mfcc, axis=0)  # batch dimension\n",
    "    return mfcc\n",
    "\n",
    "# Example: test on your wav file\n",
    "file_path = \"yt_audio.wav\"  # change to your test wav file path\n",
    "input_data = preprocess_audio(file_path)\n",
    "\n",
    "prediction = model.predict(input_data)\n",
    "predicted_index = np.argmax(prediction)\n",
    "predicted_emotion = encoder.inverse_transform([predicted_index])[0]\n",
    "\n",
    "print(f\"Predicted Emotion: {predicted_emotion}\")\n"
   ]
  }
 ],
 "metadata": {
  "kernelspec": {
   "display_name": "tf",
   "language": "python",
   "name": "python3"
  },
  "language_info": {
   "codemirror_mode": {
    "name": "ipython",
    "version": 3
   },
   "file_extension": ".py",
   "mimetype": "text/x-python",
   "name": "python",
   "nbconvert_exporter": "python",
   "pygments_lexer": "ipython3",
   "version": "3.10.13"
  }
 },
 "nbformat": 4,
 "nbformat_minor": 5
}
